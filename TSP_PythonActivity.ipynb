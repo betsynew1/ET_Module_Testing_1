{
  "nbformat": 4,
  "nbformat_minor": 0,
  "metadata": {
    "colab": {
      "provenance": [],
      "include_colab_link": true
    },
    "kernelspec": {
      "name": "python3",
      "display_name": "Python 3"
    },
    "language_info": {
      "name": "python"
    }
  },
  "cells": [
    {
      "cell_type": "markdown",
      "metadata": {
        "id": "view-in-github",
        "colab_type": "text"
      },
      "source": [
        "<a href=\"https://colab.research.google.com/github/betsynew1/ET_Module_Testing_1/blob/main/TSP_PythonActivity.ipynb\" target=\"_parent\"><img src=\"https://colab.research.google.com/assets/colab-badge.svg\" alt=\"Open In Colab\"/></a>"
      ]
    },
    {
      "cell_type": "code",
      "source": [
        "\n",
        "# This first section is just for practice to show you what Python can do\n",
        "# These are comments: they look green and are not part of the code, # just used to help document.\n",
        "# Comments in Python are indicated with a hashtag \"#\".\n",
        "\n",
        "# Feel free to change anything in this section: it will not affect anything below.\n",
        "\n",
        "# Experiment and continue after this lab to keep learning about Python!\n",
        "# https://www.learnpython.org/\n",
        "# https://docs.python.org/3/ (Official Python documentation!)\n",
        "\n",
        "# In this document, the symbol \"# # #\" is used to help you find sections of the code to change.\n",
        "# In the name variable below, remove the name \"Jasun\" and type your name, leave the quotes!\n",
        "# Hit the play button at the left and look at the bottom of this section to see the code output.\n",
        "# Remove the # in front of the third print statement to make it active.\n",
        "# Run the play button.  Lines have to be aligned\n",
        "\n",
        "# # # # # # # # # #\n",
        "name = \"Joanna\"\n",
        "print(\"Hi \" + name + \", Lets explore python and the Traveling Salesman Problem.\")\n",
        "print(\"Python does math: 3 + 5 =\", 3+5)\n",
        "# print(\"Make your own statement! \" + \"Commas seperate data types.\")\n",
        "# # # # # # # # # #"
      ],
      "metadata": {
        "id": "_0z-vYi50Uho",
        "colab": {
          "base_uri": "https://localhost:8080/"
        },
        "outputId": "3ff610e2-b756-4d4b-f680-73a967eac0d6"
      },
      "execution_count": null,
      "outputs": [
        {
          "output_type": "stream",
          "name": "stdout",
          "text": [
            "Hi Joanna, Lets explore python and the Traveling Salesman Problem.\n",
            "Python does math: 3 + 5 = 8\n"
          ]
        }
      ]
    },
    {
      "cell_type": "markdown",
      "source": [
        "# The Traveling Salesman Problem\n",
        "Finding the shortest round-trip path between many locations.\n",
        "\n",
        "---\n",
        "You've seen the TSP in the intro slides and workbook activities, and you've even tried out some different paths using a Google spreadsheet. Here, we walk through a programmed solution of the problem--an *algorithm*.\n",
        "\n",
        "The algorithm is as follows:\n",
        "1. Generate all unique round-trip paths that can be taken across our cities.\n",
        "2. Calculate the distances of all our generated paths.\n",
        "3. Select the path with the shortest distance.\n",
        "\n",
        "The algorithm may seem simple, but there are many parts to break down to describe this in code! We'll walk you through section by section, **function by function**, and show you how this is done.\n",
        "\n",
        "Without further ado, let's begin!\n",
        "\n"
      ],
      "metadata": {
        "id": "8YzlLXRR64Uv"
      }
    },
    {
      "cell_type": "markdown",
      "source": [
        "## Section 0: Setting up the file and city locations\n",
        "\n",
        "Before we start _anything_, we first need to grab our data from the Google spreadsheet and bring it into Python code.\n",
        "\n",
        "1. In this Colab, click the folder icon on the lefthand slide. In the menu that opens up, right click in the space below the `sample_data` folder and select `New File`. Name your new file `cities.txt`.\n",
        "\n",
        "2. Go back to your TSP Google spreadsheet and go to \"Sheet 2\". Copy all of the highlighted data there and paste it into `cities.txt` (double-click the `.txt` file to open it and paste). **Do not change any of the formatting!** Python will take care of that for you. :)\n",
        "\n",
        "---\n",
        "We are now set to continue.\n",
        "\n",
        "The code below converts the data from the `cities.txt` file into a form Python can understand (in our case, a \"dictionary\"). More specifically:\n",
        "\n",
        "  > Each city will come in the form `'cityName xCoord yCoord'`; we need to loop through each city and convert it to dictionary format, a data structure that lends itself handy in the other steps in this algorithm.\n",
        "\n",
        "Curious about dictionaries and other data structures in Python? Read the\n",
        "official Python documentation for more info! https://docs.python.org/3/tutorial/datastructures.html#dictionaries\n",
        "\n",
        "Once you have read the code, press the \"play\" button at the top right of the block to run the code (you can use the triangular button, or click the block you'd like to run and press `Shift+Enter`).\n",
        "\n",
        "**IMPORTANT!** For the code to run properly, the code blocks must be run **in order.** If you find yourself running into an error, try running every code block from the beginning (you can do this quickly by selecting the first code block and then pressing `Shift+Enter` repeatedly)."
      ],
      "metadata": {
        "id": "czBdrmD-YYYO"
      }
    },
    {
      "cell_type": "code",
      "source": [
        "# A special printing function we'll use to print out all the cities nicely!\n",
        "# This line imports the \"pprint\" function from the \"pprint\" library.\n",
        "from pprint import pprint\n",
        "\n",
        "# Initialize our dictionary\n",
        "allCities = dict()\n",
        "\n",
        "# Keep track of the total number of cities\n",
        "numCities = 0\n",
        "\n",
        "with open('cities.txt') as cityFile:\n",
        "  for line in cityFile:\n",
        "    # Divide the 'cityName xCoord yCoord' string into a list of three strings.\n",
        "    # We'll process the three chunks one by one.\n",
        "    city = line.rsplit(maxsplit=2)\n",
        "\n",
        "    # Grab the city name\n",
        "    cityName = city[0]\n",
        "\n",
        "    # Convert coordinates from strings (text) to floats (numbers with decimals)\n",
        "    xCoord = float(city[1])\n",
        "    yCoord = float(city[2])\n",
        "\n",
        "    # Add the city to our dictionary\n",
        "    allCities[cityName] = (xCoord, yCoord)\n",
        "    numCities = numCities + 1\n",
        "\n",
        "print(\"Here is the final dictionary of cities:\")\n",
        "\n",
        "# Use our special printing function to print the cities\n",
        "pprint(allCities)\n",
        "\n",
        "print(\"Number of cities:\", numCities)"
      ],
      "metadata": {
        "id": "_eRPnBSehL3g",
        "colab": {
          "base_uri": "https://localhost:8080/"
        },
        "outputId": "50bb962e-3ad8-4efb-97aa-541019834b9b"
      },
      "execution_count": null,
      "outputs": [
        {
          "output_type": "stream",
          "name": "stdout",
          "text": [
            "Here is the final dictionary of cities:\n",
            "{'Atlanta': (15.0, 6.5),\n",
            " 'Chicago': (13.0, 12.7),\n",
            " 'Denver': (7.0, 10.5),\n",
            " 'Houston': (10.6, 2.0),\n",
            " 'LA': (1.5, 7.0),\n",
            " 'Minneapolis': (11.0, 15.0),\n",
            " 'NYC': (18.3, 13.5),\n",
            " 'Seattle': (1.3, 18.2),\n",
            " 'St. Louis': (12.3, 9.5)}\n",
            "Number of cities: 9\n"
          ]
        }
      ]
    },
    {
      "cell_type": "markdown",
      "source": [
        "## Section 1: Generate all unique possible paths\n",
        "We will organize our code from here on out into **functions.** A *function* is simply a reusable piece of code, a routine that is defined *once* but can be called *many times*! This allows us to separate our code into reusable chunks, a technique known as *modularizing* our code.\n",
        "\n",
        "Like in math, a function in code can have inputs and outputs. Outputs are indicated with the **`return`** keyword. Function definitions in Python are indicated with the **`def`** keyword.\n",
        "\n",
        "Let's look at our first couple of functions below: the path-generation functions!\n",
        "\n",
        "Before we find the shortest path, our algorithm first finds *all* the possible paths there are (this technique is known as *brute force*). Our main function in this section, `getUniquePaths`, does just that: given a collection of $n$ cities, it returns a collection of $\\frac{(n-1)!}{2}$ unique paths.\n",
        "\n",
        "Our other function, `isUnique`, is what's called a *helper function*--our `getUnique` function uses the `isUnique` subroutine to determine if a given path is unique (our first reusable piece of code!)."
      ],
      "metadata": {
        "id": "hMBAJlCdqodn"
      }
    },
    {
      "cell_type": "code",
      "source": [
        "# Import permutations function from built-in Python library\n",
        "from itertools import permutations\n",
        "\n",
        "def isUnique(path, pathSet):\n",
        "  '''\n",
        "  Helper function for `getUniquePaths`.\n",
        "\n",
        "  Checks if a path is \"unique\" by checking if any shifted versions of the path\n",
        "  are already in the `pathSet`.\n",
        "\n",
        "  Returns `True` if path is unique, `False` if otherwise.\n",
        "\n",
        "  Ex: For a path `('a', 'b', 'c')`, if `('b', 'c', 'a')` is in the `pathSet`,\n",
        "    returns `False`--this is just a shifted version of an already-counted path!\n",
        "\n",
        "  Parameters\n",
        "  ----\n",
        "  `path`: A tuple (ordered, unchangeable/immutable list) of strings (text) that\n",
        "    represents an ordered sequence of cities. Takes the form\n",
        "    `(\"cityA\", \"cityB\", \"cityC\", ...,)`.\n",
        "  `pathSet`: A collection (such as a set) of paths.\n",
        "  '''\n",
        "\n",
        "  pathLength = len(path)\n",
        "\n",
        "  # Iterate through every shifted version of the path\n",
        "  for offset in range(pathLength):\n",
        "    shiftedPath = tuple(\n",
        "        path[(offset + i) % pathLength] for i in range(pathLength)\n",
        "    )\n",
        "\n",
        "    # Check if the pathSet already has a shifted version\n",
        "    if shiftedPath in pathSet:\n",
        "      return False\n",
        "\n",
        "  # If the code reaches this point, then we consider the path unique!\n",
        "  return True\n",
        "\n",
        "def getUniquePaths(allCities):\n",
        "  '''\n",
        "  Generates all unique sequences of cities given a `set` of cities.\n",
        "  Discounts shifted and/or reversed versions of an already-generated path.\n",
        "\n",
        "  Returns a `set` of unique paths.\n",
        "\n",
        "  Parameters\n",
        "  ----\n",
        "  `allCities`: A `dict` (dictionary) of cities, where the keys are the city\n",
        "    names and the values are their coordinates.\n",
        "\n",
        "  Curious about the `set` data structure? Check the official Python\n",
        "  documentation for more info!\n",
        "  https://docs.python.org/3/library/stdtypes.html#set-types-set-frozenset\n",
        "  '''\n",
        "  allPaths = permutations(allCities)\n",
        "  uniquePaths = set()\n",
        "\n",
        "  # Check uniqueness for each path and its reverse\n",
        "  for path in allPaths:\n",
        "    if isUnique(path, uniquePaths) and isUnique(tuple(reversed(path)), uniquePaths):\n",
        "      uniquePaths.add(path)\n",
        "\n",
        "  return uniquePaths"
      ],
      "metadata": {
        "id": "LwYdfjQlo4hR"
      },
      "execution_count": null,
      "outputs": []
    },
    {
      "cell_type": "markdown",
      "source": [
        "We'll talk about this more toward the end, but the path-generation step in this algorithm is **the longest step in the process.** We'll formalize what it means to \"take a long time\" in Section 4, but keep this caveat in mind!"
      ],
      "metadata": {
        "id": "pkL44kvI2IAu"
      }
    },
    {
      "cell_type": "markdown",
      "source": [
        "## Section 2: Distance functions\n",
        "\n",
        "Let's look at our next couple of functions below: the distance functions!\n",
        "\n",
        "Besides having to generate all possible paths, we need routines to calculate the distances of those paths. We have two functions: one that will calculate the total distance of a path (`getTotalDistance`) and one that calculates the distance just between two cities (`getDistance`). We use `getDistance` repeatedly as a helper function for `getTotalDistance`--another reusable piece of code! :)\n",
        "\n",
        "One thing you may notice while reading this code is that programming and mathematics are intricately related. The distance function is a prime example of this--`getDistance` uses the distance formula in its implementation! Just think about it: how fascinating it is that we can get electrons to do our math for us...."
      ],
      "metadata": {
        "id": "qQydn3gtcLU5"
      }
    },
    {
      "cell_type": "code",
      "source": [
        "# Import Python's math library to use their square root function\n",
        "import math\n",
        "\n",
        "def getDistance(cityA, cityB):\n",
        "  '''\n",
        "  Helper function for `getTotalDistance'.\n",
        "\n",
        "  Calculates the distance between any two cities using the Pythagorean Theorem.\n",
        "  Uses scaling factors in the calculation to get distances that reflect cities'\n",
        "  real geographical locations.\n",
        "\n",
        "  Returns the distance between the cities as a `float` (number with decimal).\n",
        "\n",
        "  Parameters\n",
        "  ----\n",
        "  `cityA`: `string` (text) -- The name of the first city.\n",
        "  `cityB`: `string` (text) -- The name of the second city.\n",
        "  '''\n",
        "  # Grab the x- and y-coordinates for both cities using the city dictionary\n",
        "  x1, y1 = allCities[cityA]\n",
        "  x2, y2 = allCities[cityB]\n",
        "\n",
        "  # Look familiar? It's the distance formula (with scaling factors)!\n",
        "  dist = math.sqrt((80*(y2 - y1))**2 + (140*(x2 - x1))**2)\n",
        "\n",
        "  return dist\n",
        "\n",
        "\n",
        "\n",
        "def getTotalDistance(path):\n",
        "  '''\n",
        "  Calculates the *total round-trip distance* of a path in miles. Uses\n",
        "  `getDistance` as a helper function to calculate distance between adjacent\n",
        "  cities on a path.\n",
        "\n",
        "  Parameters\n",
        "  -----\n",
        "  `path`: A `tuple` (ordered, unchangeable/immutable list) of strings (text) that\n",
        "    represents an ordered sequence of cities. Takes the form\n",
        "    `(\"cityA\", \"cityB\", \"cityC\", ...,)`.\n",
        "  '''\n",
        "  # Initialize total distance\n",
        "  totalDistance = 0\n",
        "\n",
        "  # Loop through and tally up the distances between adjancent cities on the path\n",
        "  for i in range(len(path) - 1):\n",
        "    totalDistance = totalDistance + getDistance(path[i], path[i+1])\n",
        "\n",
        "  # This is a round-trip distance: we need the distance between the last city\n",
        "  # and the first!\n",
        "  totalDistance = totalDistance + getDistance(path[-1], path[0])\n",
        "\n",
        "  return totalDistance"
      ],
      "metadata": {
        "id": "tN2c3imkddrn"
      },
      "execution_count": null,
      "outputs": []
    },
    {
      "cell_type": "markdown",
      "source": [
        "## Section 3: Putting it all together!\n",
        "We have all the functions we need to write our algorithm! With the above functions in mind, look again at the steps of our brute-force algorithm:\n",
        "1. Generate all unique round-trip paths that can be taken across our cities.\n",
        "2. Calculate the distances of all our generated paths.\n",
        "3. Select the path with the shortest distance.\n",
        "We can accomplish Step 1 with our path-generation functions, and we can accomplish Step 2 with our distance functions. All we have left to do is combine the results with a little more programming logic to accomplish Step 3!\n",
        "\n",
        "Hopefully, this walkthrough is exposing to you how computers (and programmers) think about complex problems. They first break them down into smaller chunks, solve the chunks, and then put them together to solve the bigger problem. You, too, can start practicing this process! You, too, can be a computer programmer--with some time and effort, you'll be able to write even *better* solutions than this to even greater problems. :)\n",
        "\n",
        "Without further ado, let's finish this algorithm!"
      ],
      "metadata": {
        "id": "ZbASYl9Trqi-"
      }
    },
    {
      "cell_type": "code",
      "source": [
        "# We want to track the time it takes for this algorithm to run--\n",
        "# we'll need a function from Python's time library\n",
        "import time\n",
        "\n",
        "# Record the start time of the algorithm\n",
        "startTime = time.time()\n",
        "\n",
        "\n",
        "# Step 1: Generate all possible paths! This is the longest step in the process.\n",
        "uniquePaths = getUniquePaths(allCities)\n",
        "print(\"Number of unique paths:\", len(uniquePaths))\n",
        "print(\"Step 1 Run Time:\", round(time.time() - startTime, 3), \"seconds\")\n",
        "\n",
        "# Steps 2 and 3: Calculate path distances and select the shortest path\n",
        "\n",
        "# Intialize an empty *list* of path distances (used for plotting)\n",
        "allPathDistances = []\n",
        "\n",
        "# Initialize the minimum distance to infinity\n",
        "shortestPath = None\n",
        "minDistance = float('inf')\n",
        "\n",
        "for path in uniquePaths:\n",
        "  pathDistance = getTotalDistance(path)\n",
        "  if pathDistance < minDistance:\n",
        "    minDistance = pathDistance\n",
        "    shortestPath = path\n",
        "\n",
        "  allPathDistances.append(pathDistance)\n",
        "\n",
        "# All done! We've determined the shortest path.\n",
        "# Now, we print and plot our results.\n",
        "\n",
        "print('Total Algorithm Run Time:', round(time.time() - startTime, 3), 'seconds')\n",
        "print(\"Shortest Path Distance:\", round(minDistance, 3), \"miles\")\n",
        "\n",
        "# # # # # # # # # #\n",
        "# This is the shortest path below: uncomment to see the answer!\n",
        "print(\"Shortest Round-Trip Path:\", shortestPath)"
      ],
      "metadata": {
        "id": "SnuZ4OQsoYsT",
        "colab": {
          "base_uri": "https://localhost:8080/"
        },
        "outputId": "0934c7f7-d002-4e99-b926-d439573cffb5"
      },
      "execution_count": null,
      "outputs": [
        {
          "output_type": "stream",
          "name": "stdout",
          "text": [
            "Number of unique paths: 20160\n",
            "Step 1 Run Time: 4.637 seconds\n",
            "Total Algorithm Run Time: 4.731 seconds\n",
            "Shortest Path Distance: 6804.599 miles\n",
            "Shortest Round-Trip Path: ('Seattle', 'LA', 'Houston', 'St. Louis', 'Atlanta', 'NYC', 'Chicago', 'Minneapolis', 'Denver')\n"
          ]
        }
      ]
    },
    {
      "cell_type": "code",
      "source": [
        "# Plot a histogram of path distances\n",
        "from matplotlib import pyplot as plt\n",
        "\n",
        "# # # # # # # # # #\n",
        "# Vary the number of bins in the histogram to see how the plot changes.\n",
        "# What happens as you increase the number of bins to 20 or more?\n",
        "# Does the shape of the curve look familiar?\n",
        "plt.hist(allPathDistances, bins = 10)\n",
        "plt.xlabel(\"Path Distances\")\n",
        "plt.ylabel(\"Number of paths\")\n",
        "plt.title(\"Histogram of Path Distances\")\n",
        "plt.show()"
      ],
      "metadata": {
        "id": "-udd8R0o-J3U",
        "colab": {
          "base_uri": "https://localhost:8080/",
          "height": 472
        },
        "outputId": "6dc5c25b-ce97-4a98-a36c-e7e8b9d3cd09"
      },
      "execution_count": null,
      "outputs": [
        {
          "output_type": "display_data",
          "data": {
            "text/plain": [
              "<Figure size 640x480 with 1 Axes>"
            ],
            "image/png": "[encoded data removed]"
          },
          "metadata": {}
        }
      ]
    },
    {
      "cell_type": "markdown",
      "source": [
        "## Section 4: How well does our algorithm scale?\n",
        "\n",
        "It's important that we programmers and mathematics analyze the *performance* of our algorithm. It helps quantify if our algorithm is correct, if it's efficient, and how well it can scale to larger inputs (e.g., 10 cities vs 10,000 cities).\n",
        "\n",
        "How much time does our algorithm take? The exact answer depends on your particular computer (or, generally speaking, *machine*). Different processors take different amounts of time to perform the most primitive operations, such as adding two numbers together.\n",
        "\n",
        "To generalize the notion of \"slowness\", computer scientists and mathematicians came up with a language to describe *time complexity*, known as **big-O notation.** Roughly speaking, the notation describes how the time an algorithm takes to run scales with the size of the input.\n",
        "\n",
        "For example, if I have an algorithm that, given a size-$n$ input, takes $n$ steps to run, my algorithm would have an $O(n)$ runtime (pronounced \"oh-of-n\"). If it took a multiple of $n^2$ steps to run, the runtime would be $O(n^2)$.\n",
        "\n",
        "Let's think about our algorithm: we said that our longest step in the process was the path-generation step. For an input of $n$ cities, our program has to generate and carefully check a collection of $n!$ permutations of those cities to get a result of $\\frac{(n-1)!}{2}$ unique paths. That's a lot of paths! We would say that **our algorithm has an $O(n!)$ runtime.** In other words, **that's really bad.**\n",
        "\n",
        "Here's a chart that shows a comparison of different time complexities of algorithms--$O(n!)$ is all the way to the left, in the darkest hue of red (it's the worst time complexity listed!)."
      ],
      "metadata": {
        "id": "afo8w-Q0yKM-"
      }
    },
    {
      "cell_type": "markdown",
      "source": [
        "![bigO-notation.jpeg](data:image/jpeg;base64,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)\n",
        "\n",
        "(Taken from [Big-O Cheat Sheet](https://www.bigocheatsheet.com/))"
      ],
      "metadata": {
        "id": "EsnH-sl8DncX"
      }
    },
    {
      "cell_type": "markdown",
      "source": [
        "Let's demonstrate the scalability of our algorithm by experimenting the path-generation step.\n",
        "\n",
        "----\n",
        "With the Google spreadsheet fully filled out, we have $9$ cities to process. Generating a list of unique paths for $9$ cities took about $7$ seconds.\n",
        "\n",
        "How much time would it take to generate unique paths for $10$ cities? Find out below--we've copied and pasted the path-generating functions for convenience, and we also have a mock list of cities whose length you can vary."
      ],
      "metadata": {
        "id": "XEicL8r_EV8O"
      }
    },
    {
      "cell_type": "code",
      "source": [
        "# Path-generation time-complexity analysis\n",
        "def isUnique(path, pathSet):\n",
        "  '''\n",
        "  Helper function for `getUniquePaths`.\n",
        "\n",
        "  Checks if a path is \"unique\" by checking if any shifted versions of the path\n",
        "  are already in the `pathSet`.\n",
        "\n",
        "  Returns `True` if path is unique, `False` if otherwise.\n",
        "\n",
        "  Ex: For a path `('a', 'b', 'c')`, if `('b', 'c', 'a')` is in the `pathSet`,\n",
        "    returns `False`--this is just a shifted version of an already-counted path!\n",
        "\n",
        "  Parameters\n",
        "  ----\n",
        "  `path`: A `tuple` (ordered, unchangeable/immutable list) of strings (text) that\n",
        "    represents an ordered sequence of cities. Takes the form\n",
        "    `(\"cityA\", \"cityB\", \"cityC\", ...,)`.\n",
        "  `pathSet`: A collection (such as a `set`) of paths.\n",
        "  '''\n",
        "\n",
        "  pathLength = len(path)\n",
        "\n",
        "  # Iterate through every shifted version of the path\n",
        "  for offset in range(pathLength):\n",
        "    shiftedPath = tuple(\n",
        "        path[(offset + i) % pathLength] for i in range(pathLength)\n",
        "    )\n",
        "\n",
        "    # Check if the pathSet already has a shifted version\n",
        "    if shiftedPath in pathSet:\n",
        "      return False\n",
        "\n",
        "  # If the code reaches this point, then we consider the path unique!\n",
        "  return True\n",
        "\n",
        "\n",
        "\n",
        "def getUniquePaths(allCities):\n",
        "  '''\n",
        "  Generates all unique sequences of cities given a `set` of cities.\n",
        "  Discounts shifted and/or reversed versions of an already-generated path.\n",
        "\n",
        "  Returns a `set` of unique paths.\n",
        "\n",
        "  Parameters\n",
        "  ----\n",
        "  `allCities`: A `dict` (dictionary) of cities, where the keys are the city\n",
        "    names and the values are their coordinates.\n",
        "\n",
        "  Curious about the `set` data structure? Check the official Python\n",
        "  documentation for more info!\n",
        "  https://docs.python.org/3/library/stdtypes.html#set-types-set-frozenset\n",
        "  '''\n",
        "  allPaths = permutations(allCities)\n",
        "  uniquePaths = set()\n",
        "\n",
        "  # Check uniqueness for each path and its reverse\n",
        "  for path in allPaths:\n",
        "    if isUnique(path, uniquePaths) and isUnique(tuple(reversed(path)), uniquePaths):\n",
        "      uniquePaths.add(path)\n",
        "\n",
        "  return uniquePaths\n",
        "\n",
        "# # # # # # # # # #\n",
        "# The activity: Run this with different numbers for `numFooCities` and\n",
        "# see how the run time changes!\n",
        "numFooCities = 11\n",
        "fooCities = [i for i in range(numFooCities)]\n",
        "startTime = time.time()\n",
        "fooUniquePaths = getUniquePaths(fooCities)\n",
        "print(\"Run time:\", round(time.time()-startTime, 3), \"seconds\")"
      ],
      "metadata": {
        "id": "HB8B7E2xyO7U",
        "colab": {
          "base_uri": "https://localhost:8080/",
          "height": 381
        },
        "outputId": "c82f5452-54cd-4bee-ffbc-13e8d422c9ef"
      },
      "execution_count": null,
      "outputs": [
        {
          "output_type": "error",
          "ename": "KeyboardInterrupt",
          "evalue": "ignored",
          "traceback": [
            "\u001b[0;31m---------------------------------------------------------------------------\u001b[0m",
            "\u001b[0;31mKeyboardInterrupt\u001b[0m                         Traceback (most recent call last)",
            "\u001b[0;32m<ipython-input-11-2f97a340209d>\u001b[0m in \u001b[0;36m<cell line: 71>\u001b[0;34m()\u001b[0m\n\u001b[1;32m     69\u001b[0m \u001b[0mfooCities\u001b[0m \u001b[0;34m=\u001b[0m \u001b[0;34m[\u001b[0m\u001b[0mi\u001b[0m \u001b[0;32mfor\u001b[0m \u001b[0mi\u001b[0m \u001b[0;32min\u001b[0m \u001b[0mrange\u001b[0m\u001b[0;34m(\u001b[0m\u001b[0mnumFooCities\u001b[0m\u001b[0;34m)\u001b[0m\u001b[0;34m]\u001b[0m\u001b[0;34m\u001b[0m\u001b[0;34m\u001b[0m\u001b[0m\n\u001b[1;32m     70\u001b[0m \u001b[0mstartTime\u001b[0m \u001b[0;34m=\u001b[0m \u001b[0mtime\u001b[0m\u001b[0;34m.\u001b[0m\u001b[0mtime\u001b[0m\u001b[0;34m(\u001b[0m\u001b[0;34m)\u001b[0m\u001b[0;34m\u001b[0m\u001b[0;34m\u001b[0m\u001b[0m\n\u001b[0;32m---> 71\u001b[0;31m \u001b[0mfooUniquePaths\u001b[0m \u001b[0;34m=\u001b[0m \u001b[0mgetUniquePaths\u001b[0m\u001b[0;34m(\u001b[0m\u001b[0mfooCities\u001b[0m\u001b[0;34m)\u001b[0m\u001b[0;34m\u001b[0m\u001b[0;34m\u001b[0m\u001b[0m\n\u001b[0m\u001b[1;32m     72\u001b[0m \u001b[0mprint\u001b[0m\u001b[0;34m(\u001b[0m\u001b[0;34m\"Run time:\"\u001b[0m\u001b[0;34m,\u001b[0m \u001b[0mround\u001b[0m\u001b[0;34m(\u001b[0m\u001b[0mtime\u001b[0m\u001b[0;34m.\u001b[0m\u001b[0mtime\u001b[0m\u001b[0;34m(\u001b[0m\u001b[0;34m)\u001b[0m\u001b[0;34m-\u001b[0m\u001b[0mstartTime\u001b[0m\u001b[0;34m,\u001b[0m \u001b[0;36m3\u001b[0m\u001b[0;34m)\u001b[0m\u001b[0;34m,\u001b[0m \u001b[0;34m\"seconds\"\u001b[0m\u001b[0;34m)\u001b[0m\u001b[0;34m\u001b[0m\u001b[0;34m\u001b[0m\u001b[0m\n",
            "\u001b[0;32m<ipython-input-11-2f97a340209d>\u001b[0m in \u001b[0;36mgetUniquePaths\u001b[0;34m(allCities)\u001b[0m\n\u001b[1;32m     58\u001b[0m   \u001b[0;31m# Check uniqueness for each path and its reverse\u001b[0m\u001b[0;34m\u001b[0m\u001b[0;34m\u001b[0m\u001b[0m\n\u001b[1;32m     59\u001b[0m   \u001b[0;32mfor\u001b[0m \u001b[0mpath\u001b[0m \u001b[0;32min\u001b[0m \u001b[0mallPaths\u001b[0m\u001b[0;34m:\u001b[0m\u001b[0;34m\u001b[0m\u001b[0;34m\u001b[0m\u001b[0m\n\u001b[0;32m---> 60\u001b[0;31m     \u001b[0;32mif\u001b[0m \u001b[0misUnique\u001b[0m\u001b[0;34m(\u001b[0m\u001b[0mpath\u001b[0m\u001b[0;34m,\u001b[0m \u001b[0muniquePaths\u001b[0m\u001b[0;34m)\u001b[0m \u001b[0;32mand\u001b[0m \u001b[0misUnique\u001b[0m\u001b[0;34m(\u001b[0m\u001b[0mtuple\u001b[0m\u001b[0;34m(\u001b[0m\u001b[0mreversed\u001b[0m\u001b[0;34m(\u001b[0m\u001b[0mpath\u001b[0m\u001b[0;34m)\u001b[0m\u001b[0;34m)\u001b[0m\u001b[0;34m,\u001b[0m \u001b[0muniquePaths\u001b[0m\u001b[0;34m)\u001b[0m\u001b[0;34m:\u001b[0m\u001b[0;34m\u001b[0m\u001b[0;34m\u001b[0m\u001b[0m\n\u001b[0m\u001b[1;32m     61\u001b[0m       \u001b[0muniquePaths\u001b[0m\u001b[0;34m.\u001b[0m\u001b[0madd\u001b[0m\u001b[0;34m(\u001b[0m\u001b[0mpath\u001b[0m\u001b[0;34m)\u001b[0m\u001b[0;34m\u001b[0m\u001b[0;34m\u001b[0m\u001b[0m\n\u001b[1;32m     62\u001b[0m \u001b[0;34m\u001b[0m\u001b[0m\n",
            "\u001b[0;32m<ipython-input-11-2f97a340209d>\u001b[0m in \u001b[0;36misUnique\u001b[0;34m(path, pathSet)\u001b[0m\n\u001b[1;32m     25\u001b[0m   \u001b[0;32mfor\u001b[0m \u001b[0moffset\u001b[0m \u001b[0;32min\u001b[0m \u001b[0mrange\u001b[0m\u001b[0;34m(\u001b[0m\u001b[0mpathLength\u001b[0m\u001b[0;34m)\u001b[0m\u001b[0;34m:\u001b[0m\u001b[0;34m\u001b[0m\u001b[0;34m\u001b[0m\u001b[0m\n\u001b[1;32m     26\u001b[0m     shiftedPath = tuple(\n\u001b[0;32m---> 27\u001b[0;31m         \u001b[0mpath\u001b[0m\u001b[0;34m[\u001b[0m\u001b[0;34m(\u001b[0m\u001b[0moffset\u001b[0m \u001b[0;34m+\u001b[0m \u001b[0mi\u001b[0m\u001b[0;34m)\u001b[0m \u001b[0;34m%\u001b[0m \u001b[0mpathLength\u001b[0m\u001b[0;34m]\u001b[0m \u001b[0;32mfor\u001b[0m \u001b[0mi\u001b[0m \u001b[0;32min\u001b[0m \u001b[0mrange\u001b[0m\u001b[0;34m(\u001b[0m\u001b[0mpathLength\u001b[0m\u001b[0;34m)\u001b[0m\u001b[0;34m\u001b[0m\u001b[0;34m\u001b[0m\u001b[0m\n\u001b[0m\u001b[1;32m     28\u001b[0m     )\n\u001b[1;32m     29\u001b[0m \u001b[0;34m\u001b[0m\u001b[0m\n",
            "\u001b[0;31mKeyboardInterrupt\u001b[0m: "
          ]
        }
      ]
    },
    {
      "cell_type": "markdown",
      "source": [
        "If you run the above algorithm with $10$ cities, you should see a run time of about a minute and a half.\n",
        "\n",
        "What if we tried $11$ cities? If our algorithm takes on the order of $n!$ steps to run, and $11!=11\\cdot10!$, then we should expect a run time roughly *10 times greater than for 10 cities*. If we approximate, that's on the order of 10 minutes!\n",
        "\n",
        "Run the above code again, setting `numFooCities` to `11`. Google Colab will run a code cell for a maximum of 3 minutes--after that, it'll throw a runtime error and crash! Verify that this happens (you'll have to be patient!).\n",
        "\n",
        "----\n",
        "\n",
        "We have now demonstrated through a number of ways that, for larger inputs, our algorithm is *quite slow*. Imagine trying to implement this with a more realistic number of cities within a region, like 10,000! It is safe to conclude that our algorithm is *not that scalable*.\n",
        "\n",
        "Well, that's ok, right? If we really needed to solve this problem in the \"real world\", we'd just search up or use a good algorithm that runs really fast, and we'd just be on our way.\n",
        "\n",
        "There's just one caveat, though:\n",
        "\n",
        "**The optimization of the Traveling Salesman Problem is an open problem.**\n",
        "\n",
        "One of the reasons our algorithm is so slow is because...*no one* knows how to create a polynomial-time solution! Using the language of complexity theory, we say that that the *Traveling Salesman Problem* is **[NP-hard](https://xlinux.nist.gov/dads/HTML/nphard.html#:~:text=(definition),Turing%20machine%20in%20polynomial%20time.).**\n",
        "\n",
        "That's right!! You just worked on one of the world's most important, most famous, and most *difficult* research problems. Using just a little programming, you were able to dive into some of the complexities of such a problem, and now you have the tools to dive even deeper.\n",
        "\n",
        "So with that, congratulations! You've made it through the main activity, and you've investigated a serious research problem all at the same time."
      ],
      "metadata": {
        "id": "sID03H3wF0iL"
      }
    },
    {
      "cell_type": "markdown",
      "source": [
        "## Extension Coding Activity - Python Practice!\n",
        "This section is meant for students who want to understand code and try putting a program together!\n",
        "### Instructions\n",
        "Copy and paste the following lines of code into lines marked with `TODO`\n",
        "\n",
        "**Copy the code directly under the instructions it belongs to!**\n",
        "\n",
        "**DO NOT change anything else in the code or it won't work!**\n",
        "\n",
        "**Each option will be used only once!**\n",
        "```python\n",
        "city = input('Enter the name of the city: ')\n",
        "##################\n",
        "if option == '1':\n",
        "##################\n",
        "print(f\"Total distance traveled: {total_distance}\")\n",
        "##################\n",
        "coordinates = []\n",
        "##################\n",
        "f = open(\"cities.txt\", \"r\")\n",
        "##################\n",
        "coordinates.append(coordinates[0])\n",
        "##################\n",
        "total_distance += distance\n",
        "##################\n",
        "create_path(cities)\n",
        "##################\n",
        "plt.scatter(other_x, other_y, color = 'red', marker = 'o')\n",
        "```\n",
        "\n",
        "\n"
      ],
      "metadata": {
        "id": "peI36YL9FwKy"
      }
    },
    {
      "cell_type": "code",
      "source": [
        "# Import libraries\n",
        "import matplotlib.pyplot as plt\n",
        "import math\n",
        "import time\n",
        "# Distance function\n",
        "def calculate_distance(point1, point2):\n",
        "    x1, y1 = point1\n",
        "    x2, y2 = point2\n",
        "    # Calculate the distance using the distance formula\n",
        "    distance = math.sqrt((x2 - x1)**2 + (y2 - y1)**2)\n",
        "    return distance\n",
        "# Function to plot points\n",
        "def draw_path(cities, coordinates):\n",
        "    # Create a list of all the x coordinates and a list of all the y coordinates to help with plotting further down\n",
        "    x_values = [coord[0] for coord in coordinates]\n",
        "    y_values = [coord[1] for coord in coordinates]\n",
        "    # Create lists of all the x and y coordinates just like above unless the cities have already been chosen by the user; This will let us simply plot the points of each city.\n",
        "    other_x = [cities[city][0] for city in cities if (cities[city][0], cities[city][0]) not in coordinates]\n",
        "    other_y = [cities[city][1] for city in cities if (cities[city][0], cities[city][0]) not in coordinates]\n",
        "    # If we want to see the plot, plot the first two lists we created on a graph that connects the graph; plt.plot creates a line graph!\n",
        "    plt.plot(x_values, y_values, color='blue', marker='o', linestyle='-')\n",
        "    ### TODO: Plot cities not yet visited with just a red o mark ###\n",
        "\n",
        "    # Label the two axis\n",
        "    plt.xlabel('X-axis')\n",
        "    plt.ylabel('Y-axis')\n",
        "    # Label the cities on top of each respective point if we're graphing at this stage\n",
        "    for city in cities:\n",
        "      plt.text(cities[city][0] - 0.2, cities[city][1] + 0.2, city)\n",
        "    # Display the plotted graph\n",
        "    plt.show()\n",
        "    # Calculate the total distance traveled by first creating a variable \"total_distance\" that we will add values to\n",
        "    total_distance = 0\n",
        "    # Loop through each city before the last one to calculate the distance between two points\n",
        "    for i in range(len(coordinates) - 1):\n",
        "      x_start, y_start = coordinates[i]\n",
        "      x_end, y_end = coordinates[i + 1]\n",
        "      # Use the calculate_distance function to calculate the distance between two points\n",
        "      distance = calculate_distance((x_start, y_start), (x_end, y_end))\n",
        "      ### TODO: Add the distance calculated in this iteration to the total distance traveled so far ###\n",
        "\n",
        "    ### TODO: Print final distance ###\n",
        "\n",
        "    return\n",
        "# Main function to pick order of cities\n",
        "def create_path(cities):\n",
        "  ### TODO: Create an empty list called \"coordinates\" ###\n",
        "\n",
        "  # Get first city's coordinates\n",
        "  # Using a while loop, we loop through these instructions until we hit \"break\"\n",
        "  while(1):\n",
        "    # Receive input from the user while also printing out \"Name of first city: \"\n",
        "    city_start = input(\"Name of first city: \")\n",
        "    # We need to check if the city specified is a city that we have in the list of cities\n",
        "    if city_start in cities:\n",
        "      # Since city_start is in the list of cities, we are going to append its coordinates to our array of coordinates\n",
        "      coordinates.append((cities[city_start][0], cities[city_start][1]))\n",
        "      # A break statement lets us exit the loop!\n",
        "      break\n",
        "    # If the city the user input is not in the list, we will tell the user that the city is invalid. Then they will reenter the loop until they get it right!\n",
        "    else:\n",
        "      print(\"Invalid city\")\n",
        "  # This while loop will continue until the user is done with the cycle they're drawing\n",
        "  while(1):\n",
        "    # Receive input from user based on menu options that are displayed; this input will be stored in the \"option\" variable\n",
        "    option = input('Menu\\n1. Add city\\n2. Remove city\\n3. I\\'m done! Show me my path.\\nPlease enter an option and click the return button.')\n",
        "    ### TODO: Check if the user's input is equal to 1 ###\n",
        "\n",
        "    # Get the city the user wants to add as an input\n",
        "    city = input('Enter the name of the city: ')\n",
        "    # We need to check if the city the user wrote is a city in our dictionary of cities\n",
        "    if city in cities:\n",
        "      # If so, we append the city's coordinates to our array called coordinates\n",
        "      coordinates.append((cities[city][0], cities[city][1]))\n",
        "    # If the city the user chose isn't in our dictionary, the loop will repeat\n",
        "    else:\n",
        "        print(\"Invalid city\")\n",
        "    # The \"elif\" only gets read by the machine if the first \"if\" statement was not true\n",
        "    elif option == '2':\n",
        "      ### TODO: Get the city that the user wants to remove ###\n",
        "\n",
        "      # Need to check both 1) if the city chosen is a city in the dictionary we made 2) if the city was already added so that we can remove it\n",
        "      if city in cities and (cities[city][0], cities[city][1]) in coordinates:\n",
        "        # Remove the point from the array coordinate\n",
        "        coordinates.remove((cities[city][0], cities[city][1]))\n",
        "      # If the city the user chose isn't in our dictionary, OR the city hasn't been added yet, the loop will repeat\n",
        "      else:\n",
        "        print(\"Invalid city to remove\")\n",
        "    # If the user wants to see the full cycle\n",
        "    elif option == '3':\n",
        "      ### TODO: Add the first pair of coordinates in the list \"coordinates\" to the end of the array \"coordinates\" ###\n",
        "\n",
        "      # Call draw_path to see the full path\n",
        "      draw_path(cities, coordinates)\n",
        "      # We are done! So now we can break (or exit) out the loop\n",
        "      break\n",
        "# Create an empty dictionary of cities\n",
        "cities = {}\n",
        "### TODO: Open the file cities.txt in read mode while storing the contents into \"f\" ###\n",
        "\n",
        "# Here we will go through the array \"f\" where the contents of cities.txt was added. We will sort the text so that it fits into our dictionary\n",
        "for loc in f:\n",
        "  loc = loc.replace(\"\\n\", \"\")\n",
        "  loc = loc.split('\t')\n",
        "  # The \"key\" will be the city's name, while the \"value\" will be the city's coordinates\n",
        "  cities[loc[0]] = (float(loc[1]), float(loc[2]))\n",
        "### TODO: Call our starting function to get us started! ###\n"
      ],
      "metadata": {
        "id": "Mx1jJaI0KQ_c",
        "colab": {
          "base_uri": "https://localhost:8080/",
          "height": 141
        },
        "outputId": "5ef1aef7-03c4-490f-c595-806fa4255065"
      },
      "execution_count": null,
      "outputs": [
        {
          "output_type": "error",
          "ename": "SyntaxError",
          "evalue": "ignored",
          "traceback": [
            "\u001b[0;36m  File \u001b[0;32m\"<ipython-input-15-31ba4279ff56>\"\u001b[0;36m, line \u001b[0;32m79\u001b[0m\n\u001b[0;31m    elif option == '2':\u001b[0m\n\u001b[0m    ^\u001b[0m\n\u001b[0;31mSyntaxError\u001b[0m\u001b[0;31m:\u001b[0m invalid syntax\n"
          ]
        }
      ]
    },
    {
      "cell_type": "markdown",
      "source": [
        "## Extension 2: Building a Better Solution!\n",
        "If you want to dive _even deeper_ into the Traveling Salesman Problem, programming, and algorithms, check out [Extension 2](https://colab.research.google.com/drive/1_bUAqziXLuQeVuNOfZ77D9G0lyIRFeQD)! There we'll walk you through a better, more efficient solution to TSP _from the ground up_. We'll investigate the problem more deeply and devise a mathematical solution to the problem, and we'll show you how to take an algorithmic idea in math and translate it into a working program!"
      ],
      "metadata": {
        "id": "G-Q7QA63brp1"
      }
    }
  ]
}